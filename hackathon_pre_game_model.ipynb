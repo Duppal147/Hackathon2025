{
  "nbformat": 4,
  "nbformat_minor": 0,
  "metadata": {
    "colab": {
      "provenance": [],
      "include_colab_link": true
    },
    "kernelspec": {
      "name": "python3",
      "display_name": "Python 3"
    },
    "language_info": {
      "name": "python"
    }
  },
  "cells": [
    {
      "cell_type": "markdown",
      "metadata": {
        "id": "view-in-github",
        "colab_type": "text"
      },
      "source": [
        "<a href=\"https://colab.research.google.com/github/Duppal147/Hackathon2025/blob/main/hackathon_pre_game_model.ipynb\" target=\"_parent\"><img src=\"https://colab.research.google.com/assets/colab-badge.svg\" alt=\"Open In Colab\"/></a>"
      ]
    },
    {
      "cell_type": "markdown",
      "source": [
        "LINK: https://www.kaggle.com/datasets/nathanlauga/nba-games\n",
        "\n",
        "To build a machine learning model for predicting NBA game outcomes using historical Kaggle data, follow these steps:\n",
        "\n",
        "Data Collection and Preparation\n",
        "Obtain the NBA dataset from Kaggle, which includes comprehensive information on teams, players, and games28.\n",
        "\n",
        "Clean and preprocess the data:\n",
        "\n",
        "Remove any irrelevant or redundant features\n",
        "\n",
        "Handle missing values\n",
        "\n",
        "Encode categorical variables\n",
        "\n",
        "Normalize numerical features\n",
        "\n",
        "Create relevant features:\n",
        "\n",
        "Calculate team performance metrics (e.g., average points scored, rebounds, assists)\n",
        "\n",
        "Compute player statistics\n",
        "\n",
        "Generate features based on recent performance (e.g., last 10 games)3\n",
        "\n",
        "Feature Selection\n",
        "Identify key performance indicators that influence game outcomes:\n",
        "\n",
        "Field goal percentage\n",
        "\n",
        "Defensive rebounds\n",
        "\n",
        "Turnovers\n",
        "\n",
        "Assists\n",
        "\n",
        "Three-point shooting percentage4\n",
        "\n",
        "Use feature importance techniques like correlation analysis or SHAP (SHapley Additive exPlanations) to select the most relevant features4.\n",
        "\n",
        "Model Selection and Training\n",
        "Split the data into training and testing sets (e.g., 80:20 ratio)3.\n",
        "\n",
        "Choose and implement machine learning algorithms:\n",
        "\n",
        "Logistic Regression\n",
        "\n",
        "Random Forest Classifier\n",
        "\n",
        "XGBoost Classifier\n",
        "\n",
        "Support Vector Classifier\n",
        "\n",
        "Gaussian Naïve Bayes14\n",
        "\n",
        "Train the models using the training data.\n",
        "\n",
        "Perform hyperparameter tuning using techniques like grid search or Bayesian optimization4.\n",
        "\n",
        "Model Evaluation\n",
        "Evaluate model performance using metrics such as:\n",
        "\n",
        "Accuracy\n",
        "\n",
        "Precision\n",
        "\n",
        "Recall\n",
        "\n",
        "F1 Score\n",
        "\n",
        "AUC (Area Under the Curve)4\n",
        "\n",
        "Use cross-validation techniques (e.g., 10-fold cross-validation) to ensure robust performance assessment4.\n",
        "\n",
        "Model Refinement\n",
        "Analyze feature importance to understand which factors contribute most to the predictions4.\n",
        "\n",
        "Consider ensemble methods or stacking to combine multiple models for improved performance.\n",
        "\n",
        "Implement techniques like rolling averages or time-based features to capture recent team performance3.\n",
        "\n",
        "Deployment and Prediction\n",
        "Select the best-performing model based on evaluation metrics.\n",
        "\n",
        "Implement the model in a production environment.\n",
        "\n",
        "Use the model to predict outcomes of upcoming NBA games by inputting the latest team and player statistics.\n",
        "\n",
        "Continuously monitor and update the model with new data to maintain its accuracy over time.\n",
        "\n",
        "By following these steps, you can create a machine learning model to predict NBA game outcomes using historical Kaggle data. Remember that the accuracy of such models typically ranges from 65% to 70%14, so while they can provide valuable insights, they are not perfect predictors of game results.\n",
        "\n",
        "\n"
      ],
      "metadata": {
        "id": "uJDxpDo4ASP8"
      }
    },
    {
      "cell_type": "code",
      "source": [],
      "metadata": {
        "id": "ride9nMPNqeP"
      },
      "execution_count": null,
      "outputs": []
    },
    {
      "cell_type": "code",
      "source": [
        "# Importing libraries\n",
        "import pandas as pd\n",
        "import numpy as np\n",
        "from sklearn.model_selection import train_test_split\n",
        "from sklearn.preprocessing import LabelEncoder, StandardScaler\n",
        "from sklearn.linear_model import LogisticRegression\n",
        "from sklearn.ensemble import RandomForestClassifier\n",
        "import xgboost as xgb\n",
        "from sklearn.metrics import accuracy_score, classification_report\n",
        "import os"
      ],
      "metadata": {
        "id": "GkAhpJx_HBkT"
      },
      "execution_count": 3,
      "outputs": []
    },
    {
      "cell_type": "code",
      "source": [
        "games = pd.read_csv('https://raw.githubusercontent.com/Duppal147/Hackathon2025/refs/heads/main/games.csv')\n",
        "rankings=pd.read_csv(\"https://raw.githubusercontent.com/Duppal147/Hackathon2025/refs/heads/main/ranking.csv\")\n",
        "teams = pd.read_csv('https://raw.githubusercontent.com/Duppal147/Hackathon2025/refs/heads/main/teams.csv')"
      ],
      "metadata": {
        "id": "XrmBpciKLxOj"
      },
      "execution_count": 2,
      "outputs": []
    },
    {
      "cell_type": "code",
      "source": [
        "games.columns\n"
      ],
      "metadata": {
        "id": "Jl9XoexRVeKv",
        "outputId": "22616345-6258-4cdb-cf02-1ff36ad1efe7",
        "colab": {
          "base_uri": "https://localhost:8080/"
        }
      },
      "execution_count": 5,
      "outputs": [
        {
          "output_type": "execute_result",
          "data": {
            "text/plain": [
              "Index(['GAME_DATE_EST', 'GAME_ID', 'GAME_STATUS_TEXT', 'HOME_TEAM_ID',\n",
              "       'VISITOR_TEAM_ID', 'SEASON', 'TEAM_ID_home', 'PTS_home', 'FG_PCT_home',\n",
              "       'FT_PCT_home', 'FG3_PCT_home', 'AST_home', 'REB_home', 'TEAM_ID_away',\n",
              "       'PTS_away', 'FG_PCT_away', 'FT_PCT_away', 'FG3_PCT_away', 'AST_away',\n",
              "       'REB_away', 'HOME_TEAM_WINS'],\n",
              "      dtype='object')"
            ]
          },
          "metadata": {},
          "execution_count": 5
        }
      ]
    },
    {
      "cell_type": "markdown",
      "source": [
        "y=Hometeamwins is the y what you are trying to predict for the model, so it would be the y"
      ],
      "metadata": {
        "id": "Xa1o8i9EZkYZ"
      }
    },
    {
      "cell_type": "code",
      "source": [],
      "metadata": {
        "id": "ueeVYMwuWpAI"
      },
      "execution_count": null,
      "outputs": []
    },
    {
      "cell_type": "code",
      "source": [],
      "metadata": {
        "id": "PBzn7UraciOZ"
      },
      "execution_count": null,
      "outputs": []
    },
    {
      "cell_type": "markdown",
      "source": [
        "Field G"
      ],
      "metadata": {
        "id": "E__nj7N3VxGN"
      }
    },
    {
      "cell_type": "code",
      "source": [
        "# Check for missing values in each dataframe\n",
        "print(\"Missing values in games.csv:\\n\", games.isnull().sum())\n"
      ],
      "metadata": {
        "colab": {
          "base_uri": "https://localhost:8080/"
        },
        "id": "_NexjvfbQS-J",
        "outputId": "64b1fe81-c3ed-41d5-d3a8-86611320aace"
      },
      "execution_count": 6,
      "outputs": [
        {
          "output_type": "stream",
          "name": "stdout",
          "text": [
            "Missing values in games.csv:\n",
            " GAME_DATE_EST        0\n",
            "GAME_ID              0\n",
            "GAME_STATUS_TEXT     0\n",
            "HOME_TEAM_ID         0\n",
            "VISITOR_TEAM_ID      0\n",
            "SEASON               0\n",
            "TEAM_ID_home         0\n",
            "PTS_home            99\n",
            "FG_PCT_home         99\n",
            "FT_PCT_home         99\n",
            "FG3_PCT_home        99\n",
            "AST_home            99\n",
            "REB_home            99\n",
            "TEAM_ID_away         0\n",
            "PTS_away            99\n",
            "FG_PCT_away         99\n",
            "FT_PCT_away         99\n",
            "FG3_PCT_away        99\n",
            "AST_away            99\n",
            "REB_away            99\n",
            "HOME_TEAM_WINS       0\n",
            "dtype: int64\n"
          ]
        }
      ]
    },
    {
      "cell_type": "markdown",
      "source": [
        "\n",
        "\n"
      ],
      "metadata": {
        "id": "FSBlQp3zVU7G"
      }
    },
    {
      "cell_type": "code",
      "source": [
        "columns_to_check = [\n",
        "    'PTS_home', 'FG_PCT_home', 'FG3_PCT_home', 'FT_PCT_home', 'AST_home', 'REB_home',\n",
        "    'FG_PCT_away', 'FG3_PCT_away', 'FT_PCT_away', 'AST_away', 'REB_away', 'PTS_away'\n",
        "]\n",
        "\n",
        "games = games.dropna(subset=columns_to_check)\n"
      ],
      "metadata": {
        "id": "wQCCuLxlc7D8"
      },
      "execution_count": 7,
      "outputs": []
    },
    {
      "cell_type": "code",
      "source": [
        "games.isnull().sum()"
      ],
      "metadata": {
        "id": "WdC8kO_WgG1R",
        "outputId": "79d9475d-3f7e-44b2-cb8a-76c7ef81a018",
        "colab": {
          "base_uri": "https://localhost:8080/",
          "height": 742
        }
      },
      "execution_count": 8,
      "outputs": [
        {
          "output_type": "execute_result",
          "data": {
            "text/plain": [
              "GAME_DATE_EST       0\n",
              "GAME_ID             0\n",
              "GAME_STATUS_TEXT    0\n",
              "HOME_TEAM_ID        0\n",
              "VISITOR_TEAM_ID     0\n",
              "SEASON              0\n",
              "TEAM_ID_home        0\n",
              "PTS_home            0\n",
              "FG_PCT_home         0\n",
              "FT_PCT_home         0\n",
              "FG3_PCT_home        0\n",
              "AST_home            0\n",
              "REB_home            0\n",
              "TEAM_ID_away        0\n",
              "PTS_away            0\n",
              "FG_PCT_away         0\n",
              "FT_PCT_away         0\n",
              "FG3_PCT_away        0\n",
              "AST_away            0\n",
              "REB_away            0\n",
              "HOME_TEAM_WINS      0\n",
              "dtype: int64"
            ],
            "text/html": [
              "<div>\n",
              "<style scoped>\n",
              "    .dataframe tbody tr th:only-of-type {\n",
              "        vertical-align: middle;\n",
              "    }\n",
              "\n",
              "    .dataframe tbody tr th {\n",
              "        vertical-align: top;\n",
              "    }\n",
              "\n",
              "    .dataframe thead th {\n",
              "        text-align: right;\n",
              "    }\n",
              "</style>\n",
              "<table border=\"1\" class=\"dataframe\">\n",
              "  <thead>\n",
              "    <tr style=\"text-align: right;\">\n",
              "      <th></th>\n",
              "      <th>0</th>\n",
              "    </tr>\n",
              "  </thead>\n",
              "  <tbody>\n",
              "    <tr>\n",
              "      <th>GAME_DATE_EST</th>\n",
              "      <td>0</td>\n",
              "    </tr>\n",
              "    <tr>\n",
              "      <th>GAME_ID</th>\n",
              "      <td>0</td>\n",
              "    </tr>\n",
              "    <tr>\n",
              "      <th>GAME_STATUS_TEXT</th>\n",
              "      <td>0</td>\n",
              "    </tr>\n",
              "    <tr>\n",
              "      <th>HOME_TEAM_ID</th>\n",
              "      <td>0</td>\n",
              "    </tr>\n",
              "    <tr>\n",
              "      <th>VISITOR_TEAM_ID</th>\n",
              "      <td>0</td>\n",
              "    </tr>\n",
              "    <tr>\n",
              "      <th>SEASON</th>\n",
              "      <td>0</td>\n",
              "    </tr>\n",
              "    <tr>\n",
              "      <th>TEAM_ID_home</th>\n",
              "      <td>0</td>\n",
              "    </tr>\n",
              "    <tr>\n",
              "      <th>PTS_home</th>\n",
              "      <td>0</td>\n",
              "    </tr>\n",
              "    <tr>\n",
              "      <th>FG_PCT_home</th>\n",
              "      <td>0</td>\n",
              "    </tr>\n",
              "    <tr>\n",
              "      <th>FT_PCT_home</th>\n",
              "      <td>0</td>\n",
              "    </tr>\n",
              "    <tr>\n",
              "      <th>FG3_PCT_home</th>\n",
              "      <td>0</td>\n",
              "    </tr>\n",
              "    <tr>\n",
              "      <th>AST_home</th>\n",
              "      <td>0</td>\n",
              "    </tr>\n",
              "    <tr>\n",
              "      <th>REB_home</th>\n",
              "      <td>0</td>\n",
              "    </tr>\n",
              "    <tr>\n",
              "      <th>TEAM_ID_away</th>\n",
              "      <td>0</td>\n",
              "    </tr>\n",
              "    <tr>\n",
              "      <th>PTS_away</th>\n",
              "      <td>0</td>\n",
              "    </tr>\n",
              "    <tr>\n",
              "      <th>FG_PCT_away</th>\n",
              "      <td>0</td>\n",
              "    </tr>\n",
              "    <tr>\n",
              "      <th>FT_PCT_away</th>\n",
              "      <td>0</td>\n",
              "    </tr>\n",
              "    <tr>\n",
              "      <th>FG3_PCT_away</th>\n",
              "      <td>0</td>\n",
              "    </tr>\n",
              "    <tr>\n",
              "      <th>AST_away</th>\n",
              "      <td>0</td>\n",
              "    </tr>\n",
              "    <tr>\n",
              "      <th>REB_away</th>\n",
              "      <td>0</td>\n",
              "    </tr>\n",
              "    <tr>\n",
              "      <th>HOME_TEAM_WINS</th>\n",
              "      <td>0</td>\n",
              "    </tr>\n",
              "  </tbody>\n",
              "</table>\n",
              "</div><br><label><b>dtype:</b> int64</label>"
            ]
          },
          "metadata": {},
          "execution_count": 8
        }
      ]
    },
    {
      "cell_type": "code",
      "source": [
        "games.info()"
      ],
      "metadata": {
        "id": "Zxr4IsFGjGbD",
        "outputId": "8c788772-18f4-4e21-90c5-a845ee925193",
        "colab": {
          "base_uri": "https://localhost:8080/"
        }
      },
      "execution_count": 9,
      "outputs": [
        {
          "output_type": "stream",
          "name": "stdout",
          "text": [
            "<class 'pandas.core.frame.DataFrame'>\n",
            "Index: 26552 entries, 0 to 26650\n",
            "Data columns (total 21 columns):\n",
            " #   Column            Non-Null Count  Dtype  \n",
            "---  ------            --------------  -----  \n",
            " 0   GAME_DATE_EST     26552 non-null  object \n",
            " 1   GAME_ID           26552 non-null  int64  \n",
            " 2   GAME_STATUS_TEXT  26552 non-null  object \n",
            " 3   HOME_TEAM_ID      26552 non-null  int64  \n",
            " 4   VISITOR_TEAM_ID   26552 non-null  int64  \n",
            " 5   SEASON            26552 non-null  int64  \n",
            " 6   TEAM_ID_home      26552 non-null  int64  \n",
            " 7   PTS_home          26552 non-null  float64\n",
            " 8   FG_PCT_home       26552 non-null  float64\n",
            " 9   FT_PCT_home       26552 non-null  float64\n",
            " 10  FG3_PCT_home      26552 non-null  float64\n",
            " 11  AST_home          26552 non-null  float64\n",
            " 12  REB_home          26552 non-null  float64\n",
            " 13  TEAM_ID_away      26552 non-null  int64  \n",
            " 14  PTS_away          26552 non-null  float64\n",
            " 15  FG_PCT_away       26552 non-null  float64\n",
            " 16  FT_PCT_away       26552 non-null  float64\n",
            " 17  FG3_PCT_away      26552 non-null  float64\n",
            " 18  AST_away          26552 non-null  float64\n",
            " 19  REB_away          26552 non-null  float64\n",
            " 20  HOME_TEAM_WINS    26552 non-null  int64  \n",
            "dtypes: float64(12), int64(7), object(2)\n",
            "memory usage: 4.5+ MB\n"
          ]
        }
      ]
    },
    {
      "cell_type": "code",
      "source": [
        "\n",
        "print(\"Initial Data Info:\")\n",
        "print(rankings.info())\n",
        "print(\"\\nFirst 5 rows:\")\n",
        "#rankings = rankings.drop(['CONFERENCE','RETURNTOPLAY'], axis=1)\n",
        "#already removed Conference and Return to Play\n",
        "print(rankings)\n",
        "\n",
        "#Need to change Home_record and Road_record to integers\n",
        "print(rankings)\n",
        "print(games)\n",
        "\n",
        "# Need to figure out a way to not drop standings date and team, but not use it while making our model"
      ],
      "metadata": {
        "id": "4jERAHPXUY3w",
        "colab": {
          "base_uri": "https://localhost:8080/"
        },
        "outputId": "20d0128a-8806-4af8-ffd5-030b8ad2d0d7"
      },
      "execution_count": 10,
      "outputs": [
        {
          "output_type": "stream",
          "name": "stdout",
          "text": [
            "Initial Data Info:\n",
            "<class 'pandas.core.frame.DataFrame'>\n",
            "RangeIndex: 210342 entries, 0 to 210341\n",
            "Data columns (total 13 columns):\n",
            " #   Column         Non-Null Count   Dtype  \n",
            "---  ------         --------------   -----  \n",
            " 0   TEAM_ID        210342 non-null  int64  \n",
            " 1   LEAGUE_ID      210342 non-null  int64  \n",
            " 2   SEASON_ID      210342 non-null  int64  \n",
            " 3   STANDINGSDATE  210342 non-null  object \n",
            " 4   CONFERENCE     210342 non-null  object \n",
            " 5   TEAM           210342 non-null  object \n",
            " 6   G              210342 non-null  int64  \n",
            " 7   W              210342 non-null  int64  \n",
            " 8   L              210342 non-null  int64  \n",
            " 9   W_PCT          210342 non-null  float64\n",
            " 10  HOME_RECORD    210342 non-null  object \n",
            " 11  ROAD_RECORD    210342 non-null  object \n",
            " 12  RETURNTOPLAY   3990 non-null    float64\n",
            "dtypes: float64(2), int64(6), object(5)\n",
            "memory usage: 20.9+ MB\n",
            "None\n",
            "\n",
            "First 5 rows:\n",
            "           TEAM_ID  LEAGUE_ID  SEASON_ID STANDINGSDATE CONFERENCE  \\\n",
            "0       1610612743          0      22022    2022-12-22       West   \n",
            "1       1610612763          0      22022    2022-12-22       West   \n",
            "2       1610612740          0      22022    2022-12-22       West   \n",
            "3       1610612756          0      22022    2022-12-22       West   \n",
            "4       1610612746          0      22022    2022-12-22       West   \n",
            "...            ...        ...        ...           ...        ...   \n",
            "210337  1610612765          0      22013    2014-09-01       East   \n",
            "210338  1610612738          0      22013    2014-09-01       East   \n",
            "210339  1610612753          0      22013    2014-09-01       East   \n",
            "210340  1610612755          0      22013    2014-09-01       East   \n",
            "210341  1610612749          0      22013    2014-09-01       East   \n",
            "\n",
            "                TEAM   G   W   L  W_PCT HOME_RECORD ROAD_RECORD  RETURNTOPLAY  \n",
            "0             Denver  30  19  11  0.633        10-3         9-8           NaN  \n",
            "1            Memphis  30  19  11  0.633        13-2         6-9           NaN  \n",
            "2        New Orleans  31  19  12  0.613        13-4         6-8           NaN  \n",
            "3            Phoenix  32  19  13  0.594        14-4         5-9           NaN  \n",
            "4        LA Clippers  33  19  14  0.576        11-7         8-7           NaN  \n",
            "...              ...  ..  ..  ..    ...         ...         ...           ...  \n",
            "210337       Detroit  82  29  53  0.354       17-24       12-29           NaN  \n",
            "210338        Boston  82  25  57  0.305       16-25        9-32           NaN  \n",
            "210339       Orlando  82  23  59  0.280       19-22        4-37           NaN  \n",
            "210340  Philadelphia  82  19  63  0.232       10-31        9-32           NaN  \n",
            "210341     Milwaukee  82  15  67  0.183       10-31        5-36           NaN  \n",
            "\n",
            "[210342 rows x 13 columns]\n",
            "           TEAM_ID  LEAGUE_ID  SEASON_ID STANDINGSDATE CONFERENCE  \\\n",
            "0       1610612743          0      22022    2022-12-22       West   \n",
            "1       1610612763          0      22022    2022-12-22       West   \n",
            "2       1610612740          0      22022    2022-12-22       West   \n",
            "3       1610612756          0      22022    2022-12-22       West   \n",
            "4       1610612746          0      22022    2022-12-22       West   \n",
            "...            ...        ...        ...           ...        ...   \n",
            "210337  1610612765          0      22013    2014-09-01       East   \n",
            "210338  1610612738          0      22013    2014-09-01       East   \n",
            "210339  1610612753          0      22013    2014-09-01       East   \n",
            "210340  1610612755          0      22013    2014-09-01       East   \n",
            "210341  1610612749          0      22013    2014-09-01       East   \n",
            "\n",
            "                TEAM   G   W   L  W_PCT HOME_RECORD ROAD_RECORD  RETURNTOPLAY  \n",
            "0             Denver  30  19  11  0.633        10-3         9-8           NaN  \n",
            "1            Memphis  30  19  11  0.633        13-2         6-9           NaN  \n",
            "2        New Orleans  31  19  12  0.613        13-4         6-8           NaN  \n",
            "3            Phoenix  32  19  13  0.594        14-4         5-9           NaN  \n",
            "4        LA Clippers  33  19  14  0.576        11-7         8-7           NaN  \n",
            "...              ...  ..  ..  ..    ...         ...         ...           ...  \n",
            "210337       Detroit  82  29  53  0.354       17-24       12-29           NaN  \n",
            "210338        Boston  82  25  57  0.305       16-25        9-32           NaN  \n",
            "210339       Orlando  82  23  59  0.280       19-22        4-37           NaN  \n",
            "210340  Philadelphia  82  19  63  0.232       10-31        9-32           NaN  \n",
            "210341     Milwaukee  82  15  67  0.183       10-31        5-36           NaN  \n",
            "\n",
            "[210342 rows x 13 columns]\n",
            "      GAME_DATE_EST   GAME_ID GAME_STATUS_TEXT  HOME_TEAM_ID  VISITOR_TEAM_ID  \\\n",
            "0        2022-12-22  22200477            Final    1610612740       1610612759   \n",
            "1        2022-12-22  22200478            Final    1610612762       1610612764   \n",
            "2        2022-12-21  22200466            Final    1610612739       1610612749   \n",
            "3        2022-12-21  22200467            Final    1610612755       1610612765   \n",
            "4        2022-12-21  22200468            Final    1610612737       1610612741   \n",
            "...             ...       ...              ...           ...              ...   \n",
            "26646    2014-10-06  11400007            Final    1610612737       1610612740   \n",
            "26647    2014-10-06  11400004            Final    1610612741       1610612764   \n",
            "26648    2014-10-06  11400005            Final    1610612747       1610612743   \n",
            "26649    2014-10-05  11400002            Final    1610612761       1610612758   \n",
            "26650    2014-10-04  11400001            Final    1610612748       1610612740   \n",
            "\n",
            "       SEASON  TEAM_ID_home  PTS_home  FG_PCT_home  FT_PCT_home  ...  \\\n",
            "0        2022    1610612740     126.0        0.484        0.926  ...   \n",
            "1        2022    1610612762     120.0        0.488        0.952  ...   \n",
            "2        2022    1610612739     114.0        0.482        0.786  ...   \n",
            "3        2022    1610612755     113.0        0.441        0.909  ...   \n",
            "4        2022    1610612737     108.0        0.429        1.000  ...   \n",
            "...       ...           ...       ...          ...          ...  ...   \n",
            "26646    2014    1610612737      93.0        0.419        0.821  ...   \n",
            "26647    2014    1610612741      81.0        0.338        0.719  ...   \n",
            "26648    2014    1610612747      98.0        0.448        0.682  ...   \n",
            "26649    2014    1610612761      99.0        0.440        0.771  ...   \n",
            "26650    2014    1610612748      86.0        0.431        0.679  ...   \n",
            "\n",
            "       AST_home  REB_home  TEAM_ID_away  PTS_away  FG_PCT_away  FT_PCT_away  \\\n",
            "0          25.0      46.0    1610612759     117.0        0.478        0.815   \n",
            "1          16.0      40.0    1610612764     112.0        0.561        0.765   \n",
            "2          22.0      37.0    1610612749     106.0        0.470        0.682   \n",
            "3          27.0      49.0    1610612765      93.0        0.392        0.735   \n",
            "4          22.0      47.0    1610612741     110.0        0.500        0.773   \n",
            "...         ...       ...           ...       ...          ...          ...   \n",
            "26646      24.0      50.0    1610612740      87.0        0.366        0.643   \n",
            "26647      18.0      40.0    1610612764      85.0        0.411        0.636   \n",
            "26648      29.0      45.0    1610612743      95.0        0.387        0.659   \n",
            "26649      21.0      30.0    1610612758      94.0        0.469        0.725   \n",
            "26650      18.0      42.0    1610612740      98.0        0.462        0.706   \n",
            "\n",
            "       FG3_PCT_away  AST_away  REB_away  HOME_TEAM_WINS  \n",
            "0             0.321      23.0      44.0               1  \n",
            "1             0.333      20.0      37.0               1  \n",
            "2             0.433      20.0      46.0               1  \n",
            "3             0.261      15.0      46.0               1  \n",
            "4             0.292      20.0      47.0               0  \n",
            "...             ...       ...       ...             ...  \n",
            "26646         0.375      17.0      43.0               1  \n",
            "26647         0.267      17.0      47.0               0  \n",
            "26648         0.500      19.0      43.0               1  \n",
            "26649         0.385      18.0      45.0               1  \n",
            "26650         0.438      19.0      42.0               0  \n",
            "\n",
            "[26552 rows x 21 columns]\n"
          ]
        }
      ]
    },
    {
      "cell_type": "code",
      "source": [
        "import pandas as pd\n",
        "from sklearn.model_selection import train_test_split\n",
        "from sklearn.preprocessing import StandardScaler\n",
        "from sklearn.linear_model import LogisticRegression\n",
        "from sklearn.metrics import accuracy_score\n",
        "\n",
        "# Create a simple feature: average ranking difference\n",
        "rankings['win_ratio'] = rankings['W'] / (rankings['W'] + rankings['L'])\n",
        "\n",
        "# Merge ranking data with games data\n",
        "games = pd.merge(games, rankings[['TEAM_ID', 'win_ratio']], left_on='HOME_TEAM_ID', right_on='TEAM_ID', suffixes=('', '_home'))\n",
        "games = pd.merge(games, rankings[['TEAM_ID', 'win_ratio']], left_on='visitor_team_id', right_on='TEAM_ID', suffixes=('_home', '_away'))\n",
        "\n",
        "# Calculate ranking difference\n",
        "games['ranking_diff'] = games['win_ratio_home'] - games['win_ratio_away']\n",
        "\n",
        "# Define target variable (home team win)\n",
        "games['home_win'] = (games['home_team_score'] > games['visitor_team_score']).astype(int)\n",
        "\n",
        "# Point differential\n",
        "games['score_diff'] = games['PTS_home'] - games['PTS_away']  # Difference in points scored\n",
        "\n",
        "# Shooting percentage differentials\n",
        "games['fg_pct_diff'] = games['FG_PCT_home'] - games['FG_PCT_away']  # Field Goal % difference\n",
        "games['ft_pct_diff'] = games['FT_PCT_home'] - games['FT_PCT_away']  # Free Throw % difference\n",
        "games['fg3_pct_diff'] = games['FG3_PCT_home'] - games['FG3_PCT_away']  # 3-Point % difference\n",
        "\n",
        "# Rolling averages for the last 5 games they played\n",
        "for stat in ['PTS', 'FG_PCT', 'FT_PCT', 'FG3_PCT', 'AST', 'REB']:\n",
        "    for team_type in ['home', 'away']:\n",
        "        games[f'{stat}_{team_type}_last_5_avg'] = games.groupby(f'TEAM_ID_{team_type}')[f'{stat}_{team_type}'].rolling(window=5, min_periods=1).mean().reset_index(0, drop=True)\n",
        "\n",
        "# Select features and target\n",
        "X = games[['ranking_diff']]  # Use only ranking difference as a feature\n",
        "y = games['home_win']\n",
        "\n",
        "# Split data into training and testing sets\n",
        "X_train, X_test, y_train, y_test = train_test_split(X, y, test_size=0.2, random_state=42)\n",
        "\n",
        "# Feature Scaling\n",
        "scaler = StandardScaler()\n",
        "X_train = scaler.fit_transform(X_train)\n",
        "X_test = scaler.transform(X_test)\n",
        "\n",
        "# Model Training\n",
        "model = LogisticRegression()\n",
        "model.fit(X_train, y_train)\n",
        "\n",
        "# Model Evaluation\n",
        "y_pred = model.predict(X_test)\n",
        "accuracy = accuracy_score(y_test, y_pred)\n",
        "print(f\"Accuracy: {accuracy}\")\n"
      ],
      "metadata": {
        "id": "vkniA8yBETy0"
      },
      "execution_count": null,
      "outputs": []
    },
    {
      "cell_type": "code",
      "source": [
        "print(\"Columns in games DataFrame:\")\n",
        "print(games.columns)\n",
        "\n",
        "print(\"\\nColumns in rankings DataFrame:\")\n",
        "print(rankings.columns)"
      ],
      "metadata": {
        "id": "aY1d4caCKY-Q"
      },
      "execution_count": null,
      "outputs": []
    }
  ]
}