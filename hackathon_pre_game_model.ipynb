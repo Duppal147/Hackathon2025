{
  "nbformat": 4,
  "nbformat_minor": 0,
  "metadata": {
    "colab": {
      "provenance": [],
      "include_colab_link": true
    },
    "kernelspec": {
      "name": "python3",
      "display_name": "Python 3"
    },
    "language_info": {
      "name": "python"
    }
  },
  "cells": [
    {
      "cell_type": "markdown",
      "metadata": {
        "id": "view-in-github",
        "colab_type": "text"
      },
      "source": [
        "<a href=\"https://colab.research.google.com/github/Duppal147/Hackathon2025/blob/main/hackathon_pre_game_model.ipynb\" target=\"_parent\"><img src=\"https://colab.research.google.com/assets/colab-badge.svg\" alt=\"Open In Colab\"/></a>"
      ]
    },
    {
      "cell_type": "markdown",
      "source": [
        "LINK: https://www.kaggle.com/datasets/nathanlauga/nba-games\n",
        "\n",
        "To build a machine learning model for predicting NBA game outcomes using historical Kaggle data, follow these steps:\n",
        "\n",
        "Data Collection and Preparation\n",
        "Obtain the NBA dataset from Kaggle, which includes comprehensive information on teams, players, and games28.\n",
        "\n",
        "Clean and preprocess the data:\n",
        "\n",
        "Remove any irrelevant or redundant features\n",
        "\n",
        "Handle missing values\n",
        "\n",
        "Encode categorical variables\n",
        "\n",
        "Normalize numerical features\n",
        "\n",
        "Create relevant features:\n",
        "\n",
        "Calculate team performance metrics (e.g., average points scored, rebounds, assists)\n",
        "\n",
        "Compute player statistics\n",
        "\n",
        "Generate features based on recent performance (e.g., last 10 games)3\n",
        "\n",
        "Feature Selection\n",
        "Identify key performance indicators that influence game outcomes:\n",
        "\n",
        "Field goal percentage\n",
        "\n",
        "Defensive rebounds\n",
        "\n",
        "Turnovers\n",
        "\n",
        "Assists\n",
        "\n",
        "Three-point shooting percentage4\n",
        "\n",
        "Use feature importance techniques like correlation analysis or SHAP (SHapley Additive exPlanations) to select the most relevant features4.\n",
        "\n",
        "Model Selection and Training\n",
        "Split the data into training and testing sets (e.g., 80:20 ratio)3.\n",
        "\n",
        "Choose and implement machine learning algorithms:\n",
        "\n",
        "Logistic Regression\n",
        "\n",
        "Random Forest Classifier\n",
        "\n",
        "XGBoost Classifier\n",
        "\n",
        "Support Vector Classifier\n",
        "\n",
        "Gaussian Naïve Bayes14\n",
        "\n",
        "Train the models using the training data.\n",
        "\n",
        "Perform hyperparameter tuning using techniques like grid search or Bayesian optimization4.\n",
        "\n",
        "Model Evaluation\n",
        "Evaluate model performance using metrics such as:\n",
        "\n",
        "Accuracy\n",
        "\n",
        "Precision\n",
        "\n",
        "Recall\n",
        "\n",
        "F1 Score\n",
        "\n",
        "AUC (Area Under the Curve)4\n",
        "\n",
        "Use cross-validation techniques (e.g., 10-fold cross-validation) to ensure robust performance assessment4.\n",
        "\n",
        "Model Refinement\n",
        "Analyze feature importance to understand which factors contribute most to the predictions4.\n",
        "\n",
        "Consider ensemble methods or stacking to combine multiple models for improved performance.\n",
        "\n",
        "Implement techniques like rolling averages or time-based features to capture recent team performance3.\n",
        "\n",
        "Deployment and Prediction\n",
        "Select the best-performing model based on evaluation metrics.\n",
        "\n",
        "Implement the model in a production environment.\n",
        "\n",
        "Use the model to predict outcomes of upcoming NBA games by inputting the latest team and player statistics.\n",
        "\n",
        "Continuously monitor and update the model with new data to maintain its accuracy over time.\n",
        "\n",
        "By following these steps, you can create a machine learning model to predict NBA game outcomes using historical Kaggle data. Remember that the accuracy of such models typically ranges from 65% to 70%14, so while they can provide valuable insights, they are not perfect predictors of game results.\n",
        "\n",
        "\n"
      ],
      "metadata": {
        "id": "uJDxpDo4ASP8"
      }
    },
    {
      "cell_type": "code",
      "source": [],
      "metadata": {
        "id": "ride9nMPNqeP"
      },
      "execution_count": null,
      "outputs": []
    },
    {
      "cell_type": "code",
      "source": [
        "# Importing libraries\n",
        "import pandas as pd\n",
        "import wget\n",
        "import numpy as np\n",
        "from sklearn.model_selection import train_test_split\n",
        "from sklearn.preprocessing import LabelEncoder, StandardScaler\n",
        "from sklearn.linear_model import LogisticRegression\n",
        "from sklearn.ensemble import RandomForestClassifier\n",
        "import xgboost as xgb\n",
        "from sklearn.metrics import accuracy_score, classification_report\n",
        "import os"
      ],
      "metadata": {
        "id": "GkAhpJx_HBkT"
      },
      "execution_count": null,
      "outputs": []
    },
    {
      "cell_type": "code",
      "source": [
        "games = pd.read_csv('https://raw.githubusercontent.com/Duppal147/Hackathon2025/refs/heads/main/games.csv')\n",
        "rankings=pd.read_csv(\"https://raw.githubusercontent.com/Duppal147/Hackathon2025/refs/heads/main/ranking.csv\")\n",
        "teams = pd.read_csv('https://raw.githubusercontent.com/Duppal147/Hackathon2025/refs/heads/main/teams.csv')"
      ],
      "metadata": {
        "id": "XrmBpciKLxOj"
      },
      "execution_count": null,
      "outputs": []
    },
    {
      "cell_type": "code",
      "source": [
        "games.columns\n"
      ],
      "metadata": {
        "id": "Jl9XoexRVeKv",
        "outputId": "c6c525e7-4bcb-432b-92dd-47d727e61697",
        "colab": {
          "base_uri": "https://localhost:8080/"
        }
      },
      "execution_count": null,
      "outputs": [
        {
          "output_type": "execute_result",
          "data": {
            "text/plain": [
              "Index(['GAME_DATE_EST', 'GAME_ID', 'GAME_STATUS_TEXT', 'HOME_TEAM_ID',\n",
              "       'VISITOR_TEAM_ID', 'SEASON', 'TEAM_ID_home', 'PTS_home', 'FG_PCT_home',\n",
              "       'FT_PCT_home', 'FG3_PCT_home', 'AST_home', 'REB_home', 'TEAM_ID_away',\n",
              "       'PTS_away', 'FG_PCT_away', 'FT_PCT_away', 'FG3_PCT_away', 'AST_away',\n",
              "       'REB_away', 'HOME_TEAM_WINS'],\n",
              "      dtype='object')"
            ]
          },
          "metadata": {},
          "execution_count": 36
        }
      ]
    },
    {
      "cell_type": "markdown",
      "source": [
        "y=Hometeamwins is the y what you are trying to predict for the model, so it would be the y"
      ],
      "metadata": {
        "id": "Xa1o8i9EZkYZ"
      }
    },
    {
      "cell_type": "code",
      "source": [],
      "metadata": {
        "id": "ueeVYMwuWpAI"
      },
      "execution_count": null,
      "outputs": []
    },
    {
      "cell_type": "code",
      "source": [],
      "metadata": {
        "id": "PBzn7UraciOZ"
      },
      "execution_count": null,
      "outputs": []
    },
    {
      "cell_type": "markdown",
      "source": [
        "Field G"
      ],
      "metadata": {
        "id": "E__nj7N3VxGN"
      }
    },
    {
      "cell_type": "code",
      "source": [
        "# Check for missing values in each dataframe\n",
        "print(\"Missing values in games.csv:\\n\", games.isnull().sum())\n"
      ],
      "metadata": {
        "colab": {
          "base_uri": "https://localhost:8080/"
        },
        "id": "_NexjvfbQS-J",
        "outputId": "2352c12c-40b5-4126-b23e-a6afa9beeff7"
      },
      "execution_count": null,
      "outputs": [
        {
          "output_type": "stream",
          "name": "stdout",
          "text": [
            "Missing values in games.csv:\n",
            " GAME_DATE_EST        0\n",
            "GAME_ID              0\n",
            "GAME_STATUS_TEXT     0\n",
            "HOME_TEAM_ID         0\n",
            "VISITOR_TEAM_ID      0\n",
            "SEASON               0\n",
            "TEAM_ID_home         0\n",
            "PTS_home            99\n",
            "FG_PCT_home          0\n",
            "FT_PCT_home         99\n",
            "FG3_PCT_home        99\n",
            "AST_home            99\n",
            "REB_home            99\n",
            "TEAM_ID_away         0\n",
            "PTS_away            99\n",
            "FG_PCT_away         99\n",
            "FT_PCT_away         99\n",
            "FG3_PCT_away        99\n",
            "AST_away            99\n",
            "REB_away            99\n",
            "HOME_TEAM_WINS       0\n",
            "dtype: int64\n"
          ]
        }
      ]
    },
    {
      "cell_type": "markdown",
      "source": [
        "\n",
        "\n"
      ],
      "metadata": {
        "id": "FSBlQp3zVU7G"
      }
    },
    {
      "cell_type": "code",
      "source": [
        "games['PTS_home'] = games['PTS_home'].fillna(0)\n",
        "games['FG_PCT_home'] = games['FG_PCT_home'].fillna(0)\n",
        "games['FG3_PCT_home']=games['FG3_PCT_home'].fillna(0)\n",
        "games['FT_PCT_home']=games['FT_PCT_home'].fillna(0)\n",
        "games['AST_home']=games['AST_home'].fillna(0)\n",
        "games['REB_home']=games['REB_home'].fillna(0)\n",
        "games['FG_PCT_away']=games['FG_PCT_away'].fillna(0)\n",
        "games['FG3_PCT_away']=games['FG3_PCT_away'].fillna(0)\n",
        "games['FT_PCT_away']=games['FT_PCT_away'].fillna(0)\n",
        "games['AST_away']=games['AST_away'].fillna(0)\n",
        "games['REB_away']=games['REB_away'].fillna(0)\n",
        "games['PTS_away']=games['PTS_away'].fillna(0)"
      ],
      "metadata": {
        "id": "wQCCuLxlc7D8"
      },
      "execution_count": null,
      "outputs": []
    },
    {
      "cell_type": "code",
      "source": [
        "games.isnull().sum()"
      ],
      "metadata": {
        "id": "WdC8kO_WgG1R",
        "outputId": "236b0417-de3a-4242-b18a-057c341b193d",
        "colab": {
          "base_uri": "https://localhost:8080/",
          "height": 743
        }
      },
      "execution_count": null,
      "outputs": [
        {
          "output_type": "execute_result",
          "data": {
            "text/plain": [
              "GAME_DATE_EST       0\n",
              "GAME_ID             0\n",
              "GAME_STATUS_TEXT    0\n",
              "HOME_TEAM_ID        0\n",
              "VISITOR_TEAM_ID     0\n",
              "SEASON              0\n",
              "TEAM_ID_home        0\n",
              "PTS_home            0\n",
              "FG_PCT_home         0\n",
              "FT_PCT_home         0\n",
              "FG3_PCT_home        0\n",
              "AST_home            0\n",
              "REB_home            0\n",
              "TEAM_ID_away        0\n",
              "PTS_away            0\n",
              "FG_PCT_away         0\n",
              "FT_PCT_away         0\n",
              "FG3_PCT_away        0\n",
              "AST_away            0\n",
              "REB_away            0\n",
              "HOME_TEAM_WINS      0\n",
              "dtype: int64"
            ],
            "text/html": [
              "<div>\n",
              "<style scoped>\n",
              "    .dataframe tbody tr th:only-of-type {\n",
              "        vertical-align: middle;\n",
              "    }\n",
              "\n",
              "    .dataframe tbody tr th {\n",
              "        vertical-align: top;\n",
              "    }\n",
              "\n",
              "    .dataframe thead th {\n",
              "        text-align: right;\n",
              "    }\n",
              "</style>\n",
              "<table border=\"1\" class=\"dataframe\">\n",
              "  <thead>\n",
              "    <tr style=\"text-align: right;\">\n",
              "      <th></th>\n",
              "      <th>0</th>\n",
              "    </tr>\n",
              "  </thead>\n",
              "  <tbody>\n",
              "    <tr>\n",
              "      <th>GAME_DATE_EST</th>\n",
              "      <td>0</td>\n",
              "    </tr>\n",
              "    <tr>\n",
              "      <th>GAME_ID</th>\n",
              "      <td>0</td>\n",
              "    </tr>\n",
              "    <tr>\n",
              "      <th>GAME_STATUS_TEXT</th>\n",
              "      <td>0</td>\n",
              "    </tr>\n",
              "    <tr>\n",
              "      <th>HOME_TEAM_ID</th>\n",
              "      <td>0</td>\n",
              "    </tr>\n",
              "    <tr>\n",
              "      <th>VISITOR_TEAM_ID</th>\n",
              "      <td>0</td>\n",
              "    </tr>\n",
              "    <tr>\n",
              "      <th>SEASON</th>\n",
              "      <td>0</td>\n",
              "    </tr>\n",
              "    <tr>\n",
              "      <th>TEAM_ID_home</th>\n",
              "      <td>0</td>\n",
              "    </tr>\n",
              "    <tr>\n",
              "      <th>PTS_home</th>\n",
              "      <td>0</td>\n",
              "    </tr>\n",
              "    <tr>\n",
              "      <th>FG_PCT_home</th>\n",
              "      <td>0</td>\n",
              "    </tr>\n",
              "    <tr>\n",
              "      <th>FT_PCT_home</th>\n",
              "      <td>0</td>\n",
              "    </tr>\n",
              "    <tr>\n",
              "      <th>FG3_PCT_home</th>\n",
              "      <td>0</td>\n",
              "    </tr>\n",
              "    <tr>\n",
              "      <th>AST_home</th>\n",
              "      <td>0</td>\n",
              "    </tr>\n",
              "    <tr>\n",
              "      <th>REB_home</th>\n",
              "      <td>0</td>\n",
              "    </tr>\n",
              "    <tr>\n",
              "      <th>TEAM_ID_away</th>\n",
              "      <td>0</td>\n",
              "    </tr>\n",
              "    <tr>\n",
              "      <th>PTS_away</th>\n",
              "      <td>0</td>\n",
              "    </tr>\n",
              "    <tr>\n",
              "      <th>FG_PCT_away</th>\n",
              "      <td>0</td>\n",
              "    </tr>\n",
              "    <tr>\n",
              "      <th>FT_PCT_away</th>\n",
              "      <td>0</td>\n",
              "    </tr>\n",
              "    <tr>\n",
              "      <th>FG3_PCT_away</th>\n",
              "      <td>0</td>\n",
              "    </tr>\n",
              "    <tr>\n",
              "      <th>AST_away</th>\n",
              "      <td>0</td>\n",
              "    </tr>\n",
              "    <tr>\n",
              "      <th>REB_away</th>\n",
              "      <td>0</td>\n",
              "    </tr>\n",
              "    <tr>\n",
              "      <th>HOME_TEAM_WINS</th>\n",
              "      <td>0</td>\n",
              "    </tr>\n",
              "  </tbody>\n",
              "</table>\n",
              "</div><br><label><b>dtype:</b> int64</label>"
            ]
          },
          "metadata": {},
          "execution_count": 58
        }
      ]
    },
    {
      "cell_type": "code",
      "source": [
        "games.info()"
      ],
      "metadata": {
        "id": "Zxr4IsFGjGbD",
        "outputId": "94965f1d-6e12-481e-9d91-f194b9b863b0",
        "colab": {
          "base_uri": "https://localhost:8080/"
        }
      },
      "execution_count": null,
      "outputs": [
        {
          "output_type": "stream",
          "name": "stdout",
          "text": [
            "<class 'pandas.core.frame.DataFrame'>\n",
            "RangeIndex: 26651 entries, 0 to 26650\n",
            "Data columns (total 20 columns):\n",
            " #   Column           Non-Null Count  Dtype         \n",
            "---  ------           --------------  -----         \n",
            " 0   GAME_DATE_EST    26651 non-null  datetime64[ns]\n",
            " 1   GAME_ID          26651 non-null  int64         \n",
            " 2   HOME_TEAM_ID     26651 non-null  int64         \n",
            " 3   VISITOR_TEAM_ID  26651 non-null  int64         \n",
            " 4   SEASON           26651 non-null  int64         \n",
            " 5   TEAM_ID_home     26651 non-null  int64         \n",
            " 6   PTS_home         26651 non-null  float64       \n",
            " 7   FG_PCT_home      26651 non-null  float64       \n",
            " 8   FT_PCT_home      26651 non-null  float64       \n",
            " 9   FG3_PCT_home     26651 non-null  float64       \n",
            " 10  AST_home         26651 non-null  float64       \n",
            " 11  REB_home         26651 non-null  float64       \n",
            " 12  TEAM_ID_away     26651 non-null  int64         \n",
            " 13  PTS_away         26651 non-null  float64       \n",
            " 14  FG_PCT_away      26651 non-null  float64       \n",
            " 15  FT_PCT_away      26651 non-null  float64       \n",
            " 16  FG3_PCT_away     26651 non-null  float64       \n",
            " 17  AST_away         26651 non-null  float64       \n",
            " 18  REB_away         26651 non-null  float64       \n",
            " 19  HOME_TEAM_WINS   26651 non-null  int64         \n",
            "dtypes: datetime64[ns](1), float64(12), int64(7)\n",
            "memory usage: 4.1 MB\n"
          ]
        }
      ]
    },
    {
      "cell_type": "code",
      "source": [
        "\n",
        "print(\"Initial Data Info:\")\n",
        "print(rankings.info())\n",
        "print(\"\\nFirst 5 rows:\")\n",
        "#rankings = rankings.drop(['CONFERENCE','RETURNTOPLAY'], axis=1)\n",
        "#already removed Conference and Return to Play\n",
        "print(rankings)\n",
        "\n",
        "#Need to change Home_record and Road_record to integers\n",
        "print(rankings)\n",
        "\n",
        "# Need to figure out a way to not drop standings date and team, but not use it while making our model"
      ],
      "metadata": {
        "id": "4jERAHPXUY3w",
        "colab": {
          "base_uri": "https://localhost:8080/"
        },
        "outputId": "ca3d503e-7642-454a-8d5b-9e4894d686ce"
      },
      "execution_count": 28,
      "outputs": [
        {
          "output_type": "stream",
          "name": "stdout",
          "text": [
            "Initial Data Info:\n",
            "<class 'pandas.core.frame.DataFrame'>\n",
            "RangeIndex: 210342 entries, 0 to 210341\n",
            "Data columns (total 11 columns):\n",
            " #   Column         Non-Null Count   Dtype  \n",
            "---  ------         --------------   -----  \n",
            " 0   TEAM_ID        210342 non-null  int64  \n",
            " 1   LEAGUE_ID      210342 non-null  int64  \n",
            " 2   SEASON_ID      210342 non-null  int64  \n",
            " 3   STANDINGSDATE  210342 non-null  object \n",
            " 4   TEAM           210342 non-null  object \n",
            " 5   G              210342 non-null  int64  \n",
            " 6   W              210342 non-null  int64  \n",
            " 7   L              210342 non-null  int64  \n",
            " 8   W_PCT          210342 non-null  float64\n",
            " 9   HOME_RECORD    210342 non-null  object \n",
            " 10  ROAD_RECORD    210342 non-null  object \n",
            "dtypes: float64(1), int64(6), object(4)\n",
            "memory usage: 17.7+ MB\n",
            "None\n",
            "\n",
            "First 5 rows:\n",
            "           TEAM_ID  LEAGUE_ID  SEASON_ID STANDINGSDATE          TEAM   G   W  \\\n",
            "0       1610612743          0      22022    2022-12-22        Denver  30  19   \n",
            "1       1610612763          0      22022    2022-12-22       Memphis  30  19   \n",
            "2       1610612740          0      22022    2022-12-22   New Orleans  31  19   \n",
            "3       1610612756          0      22022    2022-12-22       Phoenix  32  19   \n",
            "4       1610612746          0      22022    2022-12-22   LA Clippers  33  19   \n",
            "...            ...        ...        ...           ...           ...  ..  ..   \n",
            "210337  1610612765          0      22013    2014-09-01       Detroit  82  29   \n",
            "210338  1610612738          0      22013    2014-09-01        Boston  82  25   \n",
            "210339  1610612753          0      22013    2014-09-01       Orlando  82  23   \n",
            "210340  1610612755          0      22013    2014-09-01  Philadelphia  82  19   \n",
            "210341  1610612749          0      22013    2014-09-01     Milwaukee  82  15   \n",
            "\n",
            "         L  W_PCT HOME_RECORD ROAD_RECORD  \n",
            "0       11  0.633        10-3         9-8  \n",
            "1       11  0.633        13-2         6-9  \n",
            "2       12  0.613        13-4         6-8  \n",
            "3       13  0.594        14-4         5-9  \n",
            "4       14  0.576        11-7         8-7  \n",
            "...     ..    ...         ...         ...  \n",
            "210337  53  0.354       17-24       12-29  \n",
            "210338  57  0.305       16-25        9-32  \n",
            "210339  59  0.280       19-22        4-37  \n",
            "210340  63  0.232       10-31        9-32  \n",
            "210341  67  0.183       10-31        5-36  \n",
            "\n",
            "[210342 rows x 11 columns]\n",
            "           TEAM_ID  LEAGUE_ID  SEASON_ID STANDINGSDATE          TEAM   G   W  \\\n",
            "0       1610612743          0      22022    2022-12-22        Denver  30  19   \n",
            "1       1610612763          0      22022    2022-12-22       Memphis  30  19   \n",
            "2       1610612740          0      22022    2022-12-22   New Orleans  31  19   \n",
            "3       1610612756          0      22022    2022-12-22       Phoenix  32  19   \n",
            "4       1610612746          0      22022    2022-12-22   LA Clippers  33  19   \n",
            "...            ...        ...        ...           ...           ...  ..  ..   \n",
            "210337  1610612765          0      22013    2014-09-01       Detroit  82  29   \n",
            "210338  1610612738          0      22013    2014-09-01        Boston  82  25   \n",
            "210339  1610612753          0      22013    2014-09-01       Orlando  82  23   \n",
            "210340  1610612755          0      22013    2014-09-01  Philadelphia  82  19   \n",
            "210341  1610612749          0      22013    2014-09-01     Milwaukee  82  15   \n",
            "\n",
            "         L  W_PCT HOME_RECORD ROAD_RECORD  \n",
            "0       11  0.633        10-3         9-8  \n",
            "1       11  0.633        13-2         6-9  \n",
            "2       12  0.613        13-4         6-8  \n",
            "3       13  0.594        14-4         5-9  \n",
            "4       14  0.576        11-7         8-7  \n",
            "...     ..    ...         ...         ...  \n",
            "210337  53  0.354       17-24       12-29  \n",
            "210338  57  0.305       16-25        9-32  \n",
            "210339  59  0.280       19-22        4-37  \n",
            "210340  63  0.232       10-31        9-32  \n",
            "210341  67  0.183       10-31        5-36  \n",
            "\n",
            "[210342 rows x 11 columns]\n"
          ]
        }
      ]
    }
  ]
}