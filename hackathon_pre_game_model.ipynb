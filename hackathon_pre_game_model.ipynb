{
  "nbformat": 4,
  "nbformat_minor": 0,
  "metadata": {
    "colab": {
      "provenance": [],
      "include_colab_link": true
    },
    "kernelspec": {
      "name": "python3",
      "display_name": "Python 3"
    },
    "language_info": {
      "name": "python"
    }
  },
  "cells": [
    {
      "cell_type": "markdown",
      "metadata": {
        "id": "view-in-github",
        "colab_type": "text"
      },
      "source": [
        "<a href=\"https://colab.research.google.com/github/Duppal147/Hackathon2025/blob/main/hackathon_pre_game_model.ipynb\" target=\"_parent\"><img src=\"https://colab.research.google.com/assets/colab-badge.svg\" alt=\"Open In Colab\"/></a>"
      ]
    },
    {
      "cell_type": "markdown",
      "source": [
        "LINK: https://www.kaggle.com/datasets/nathanlauga/nba-games\n",
        "\n",
        "To build a machine learning model for predicting NBA game outcomes using historical Kaggle data, follow these steps:\n",
        "\n",
        "Data Collection and Preparation\n",
        "Obtain the NBA dataset from Kaggle, which includes comprehensive information on teams, players, and games28.\n",
        "\n",
        "Clean and preprocess the data:\n",
        "\n",
        "Remove any irrelevant or redundant features\n",
        "\n",
        "Handle missing values\n",
        "\n",
        "Encode categorical variables\n",
        "\n",
        "Normalize numerical features\n",
        "\n",
        "Create relevant features:\n",
        "\n",
        "Calculate team performance metrics (e.g., average points scored, rebounds, assists)\n",
        "\n",
        "Compute player statistics\n",
        "\n",
        "Generate features based on recent performance (e.g., last 10 games)3\n",
        "\n",
        "Feature Selection\n",
        "Identify key performance indicators that influence game outcomes:\n",
        "\n",
        "Field goal percentage\n",
        "\n",
        "Defensive rebounds\n",
        "\n",
        "Turnovers\n",
        "\n",
        "Assists\n",
        "\n",
        "Three-point shooting percentage4\n",
        "\n",
        "Use feature importance techniques like correlation analysis or SHAP (SHapley Additive exPlanations) to select the most relevant features4.\n",
        "\n",
        "Model Selection and Training\n",
        "Split the data into training and testing sets (e.g., 80:20 ratio)3.\n",
        "\n",
        "Choose and implement machine learning algorithms:\n",
        "\n",
        "Logistic Regression\n",
        "\n",
        "Random Forest Classifier\n",
        "\n",
        "XGBoost Classifier\n",
        "\n",
        "Support Vector Classifier\n",
        "\n",
        "Gaussian Naïve Bayes14\n",
        "\n",
        "Train the models using the training data.\n",
        "\n",
        "Perform hyperparameter tuning using techniques like grid search or Bayesian optimization4.\n",
        "\n",
        "Model Evaluation\n",
        "Evaluate model performance using metrics such as:\n",
        "\n",
        "Accuracy\n",
        "\n",
        "Precision\n",
        "\n",
        "Recall\n",
        "\n",
        "F1 Score\n",
        "\n",
        "AUC (Area Under the Curve)4\n",
        "\n",
        "Use cross-validation techniques (e.g., 10-fold cross-validation) to ensure robust performance assessment4.\n",
        "\n",
        "Model Refinement\n",
        "Analyze feature importance to understand which factors contribute most to the predictions4.\n",
        "\n",
        "Consider ensemble methods or stacking to combine multiple models for improved performance.\n",
        "\n",
        "Implement techniques like rolling averages or time-based features to capture recent team performance3.\n",
        "\n",
        "Deployment and Prediction\n",
        "Select the best-performing model based on evaluation metrics.\n",
        "\n",
        "Implement the model in a production environment.\n",
        "\n",
        "Use the model to predict outcomes of upcoming NBA games by inputting the latest team and player statistics.\n",
        "\n",
        "Continuously monitor and update the model with new data to maintain its accuracy over time.\n",
        "\n",
        "By following these steps, you can create a machine learning model to predict NBA game outcomes using historical Kaggle data. Remember that the accuracy of such models typically ranges from 65% to 70%14, so while they can provide valuable insights, they are not perfect predictors of game results.\n",
        "\n",
        "\n"
      ],
      "metadata": {
        "id": "uJDxpDo4ASP8"
      }
    },
    {
      "cell_type": "code",
      "source": [
        "# Importing libraries\n",
        "import pandas as pd\n",
        "import os\n",
        "import numpy as np\n",
        "from sklearn.model_selection import train_test_split\n",
        "from sklearn.preprocessing import LabelEncoder, StandardScaler\n",
        "from sklearn.linear_model import LogisticRegression\n",
        "from sklearn.ensemble import RandomForestClassifier\n",
        "import xgboost as xgb\n",
        "from sklearn.metrics import accuracy_score, classification_report"
      ],
      "metadata": {
        "id": "GkAhpJx_HBkT"
      },
      "execution_count": 10,
      "outputs": []
    },
    {
      "cell_type": "code",
      "source": [
        "# Function to safely load CSV files\n",
        "def load_csv(filename):\n",
        "    if os.path.exists(filename):\n",
        "        return pd.read_csv(filename)\n",
        "    else:\n",
        "        print(f\"Warning: {filename} not found.\")\n",
        "        return None\n",
        "\n",
        "# List of expected files\n",
        "file_list = ['games.csv', 'ranking.csv', 'teams.csv']\n",
        "\n",
        "# Dictionary to store our dataframes\n",
        "dataframes = {}\n",
        "\n",
        "# Load each file\n",
        "for file in file_list:\n",
        "    dataframes[file.split('.')[0]] = load_csv(file)\n",
        "\n",
        "# Now you can access each dataframe like this:\n",
        "# games = dataframes['games']\n",
        "# teams = dataframes['teams']\n",
        "# ranking = dataframes['ranking']\n",
        "\n",
        "# Print out which files were successfully loaded\n",
        "print(\"Successfully loaded files:\")\n",
        "for key, df in dataframes.items():\n",
        "    if df is not None:\n",
        "        print(f\"- {key}.csv\")\n",
        "\n",
        "# Print out which files were not found\n",
        "print(\"\\nFiles not found:\")\n",
        "for key, df in dataframes.items():\n",
        "    if df is None:\n",
        "        print(f\"- {key}.csv\")\n"
      ],
      "metadata": {
        "id": "ERDXaMBFIZmF",
        "outputId": "51c5d720-a15b-4b0a-d93f-48ec409d708a",
        "colab": {
          "base_uri": "https://localhost:8080/"
        }
      },
      "execution_count": 12,
      "outputs": [
        {
          "output_type": "stream",
          "name": "stdout",
          "text": [
            "Warning: games.csv not found.\n",
            "Warning: ranking.csv not found.\n",
            "Warning: teams.csv not found.\n",
            "Successfully loaded files:\n",
            "\n",
            "Files not found:\n",
            "- games.csv\n",
            "- ranking.csv\n",
            "- teams.csv\n"
          ]
        }
      ]
    }
  ]
}